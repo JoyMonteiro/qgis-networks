{
 "cells": [
  {
   "cell_type": "markdown",
   "metadata": {},
   "source": [
    "# Testing Centrality"
   ]
  },
  {
   "cell_type": "code",
   "execution_count": 1,
   "metadata": {
    "collapsed": true
   },
   "outputs": [],
   "source": [
    "%matplotlib inline"
   ]
  },
  {
   "cell_type": "code",
   "execution_count": 1,
   "metadata": {
    "collapsed": false
   },
   "outputs": [
    {
     "name": "stdout",
     "output_type": "stream",
     "text": [
      "4\n",
      "[<Vertex object with index '8081' at 0x7f32b4b51ad0>, <Vertex object with index '8179' at 0x7f32965368d0>, <Vertex object with index '8180' at 0x7f3296536950>, <Vertex object with index '8181' at 0x7f32965369d0>, <Vertex object with index '8079' at 0x7f3296536a50>, <Vertex object with index '7979' at 0x7f3296536ad0>, <Vertex object with index '7980' at 0x7f3296536b50>, <Vertex object with index '7981' at 0x7f3296536bd0>]\n",
      "4\n",
      "[<Vertex object with index '8081' at 0x7f32b37a1ed0>, <Vertex object with index '8179' at 0x7f32b37a1e50>, <Vertex object with index '8180' at 0x7f32b37a1dd0>, <Vertex object with index '8181' at 0x7f32b37a1d50>, <Vertex object with index '8079' at 0x7f32b37a1cd0>, <Vertex object with index '7979' at 0x7f32b37a1c50>, <Vertex object with index '7980' at 0x7f32b37a1bd0>, <Vertex object with index '7981' at 0x7f32b37a1b50>]\n"
     ]
    }
   ],
   "source": [
    "# %load testShortestPath2.py\n",
    "from rasterGraphCreate import *\n",
    "import matplotlib\n",
    "\n",
    "from matplotlib import pyplot\n",
    "\n",
    "if __name__ == \"__main__\":\n",
    "    \n",
    "    arraySize = 100\n",
    "\n",
    "    startNode = 4\n",
    "    destNode = 8080\n",
    "\n",
    "    startNode1 = 90\n",
    "    destNode1 = 8008\n",
    "\n",
    "    startNode2 = 30\n",
    "    destNode2 = 9080\n",
    "\n",
    "    raster = np.zeros((arraySize,arraySize))\n",
    "\n",
    "    measureX = np.linspace(0,5, arraySize)\n",
    "    measureY = measureX.copy()\n",
    "    kx,ky = np.meshgrid(measureX, measureY)\n",
    "\n",
    "    raster += np.exp(-pow(kx-0.5, 2)/.5  - pow(ky-2.5,2)/2.)\n",
    "    raster += np.exp(-pow(kx-2.5, 2)/.5  - pow(ky-2.5,2)/2.)\n",
    "    raster += np.exp(-pow(kx-4.5, 2)/.5  - pow(ky-2.5,2)/2.)\n",
    "    #raster += np.exp(-pow(measureX-0.5, 2)/5.  - pow(measureY-0.7,2)/5.)\n",
    "\n",
    "    raster += 0.1*np.random.random(raster.shape)\n",
    "\n",
    "    pyplot.ion()\n",
    "    pyplot.imshow(raster.transpose(),cmap=pyplot.cm.coolwarm)\n",
    "\n",
    "    def weightFn(arr, v1index, v2index):\n",
    "        return (raster[v1index] + raster[v2index])/2.\n",
    "\n",
    "    g = createGraph(raster, weightFunction=weightFn)\n",
    "\n",
    "\n",
    "    vlist, elist = shortest_path(g, g.vertex(startNode), g.vertex(destNode), weights=g.ep.edgeCost)\n",
    "    print g.vertex(4)\n",
    "    print [vert for vert in g.vertex(destNode).out_neighbours()]\n",
    "\n",
    "    xs = []\n",
    "    ys = []\n",
    "    for vertex in vlist:\n",
    "        index = g.vertex_index[vertex]\n",
    "        row,col = getRowCol(index, arraySize)\n",
    "\n",
    "        xs.append(row)\n",
    "        ys.append(col)\n",
    "\n",
    "    pyplot.hold(True)\n",
    "\n",
    "    pyplot.plot(xs, ys,'white',linewidth=2)\n",
    "\n",
    "    vlist, elist = shortest_path(g, g.vertex(startNode1), g.vertex(destNode1), weights=g.ep.edgeCost)\n",
    "    print g.vertex(4)\n",
    "    \n",
    "    print [vert for vert in g.vertex(destNode).out_neighbours()]\n",
    "\n",
    "    xs = []\n",
    "    ys = []\n",
    "    for vertex in vlist:\n",
    "        index = g.vertex_index[vertex]\n",
    "        row,col = getRowCol(index, arraySize)\n",
    "\n",
    "        xs.append(row)\n",
    "        ys.append(col)\n",
    "\n",
    "    pyplot.hold(True)\n",
    "\n",
    "    pyplot.plot(xs, ys,'red',linewidth=2)\n",
    "\n",
    "\n",
    "\n",
    "    vlist, elist = shortest_path(g, g.vertex(startNode2), g.vertex(destNode2), weights=g.ep.edgeCost)\n",
    "    \n",
    "    xs = []\n",
    "    ys = []\n",
    "    for vertex in vlist:\n",
    "        index = g.vertex_index[vertex]\n",
    "        row,col = getRowCol(index, arraySize)\n",
    "\n",
    "        xs.append(row)\n",
    "        ys.append(col)\n",
    "\n",
    "    pyplot.hold(True)\n",
    "\n",
    "    pyplot.plot(xs, ys,'k',linewidth=2)\n",
    "\n",
    "\n",
    "    pyplot.xlim(-1,arraySize)\n",
    "    pyplot.ylim(0,arraySize)\n",
    "    pyplot.show()\n"
   ]
  },
  {
   "cell_type": "markdown",
   "metadata": {},
   "source": [
    "We are using a synthetic example to explore shortest paths. The figure above shows a simple raster which\n",
    "can be thought of as two regions separated by two 'hills' and a valley in between them.\n",
    "\n",
    "Three paths from one side to another, marked in red, white and black are calculated. As you can observe,\n",
    "all of them pass through a certain region in the valley. We want to see if this region can be highlighted somehow.\n",
    "\n",
    "For this we use Betweenness centrality."
   ]
  },
  {
   "cell_type": "code",
   "execution_count": 2,
   "metadata": {
    "collapsed": true
   },
   "outputs": [],
   "source": [
    "import graph_tool.centrality as centrality\n",
    "\n",
    "#Calculate centrality\n",
    "vp, ep = centrality.betweenness(g, weight = g.ep['edgeCost'])"
   ]
  },
  {
   "cell_type": "code",
   "execution_count": 3,
   "metadata": {
    "collapsed": false
   },
   "outputs": [
    {
     "data": {
      "text/plain": [
       "<matplotlib.colorbar.Colorbar instance at 0x7f3295870ea8>"
      ]
     },
     "execution_count": 3,
     "metadata": {},
     "output_type": "execute_result"
    }
   ],
   "source": [
    "from pylab import *\n",
    "output = createRaster(g, vp, arraySize, arraySize)\n",
    "\n",
    "imshow(output.transpose(), cmap= cm.coolwarm)\n",
    "colorbar()"
   ]
  },
  {
   "cell_type": "markdown",
   "metadata": {},
   "source": [
    "The betweenness centrality measure shows 'hotspots' or natural 'highways' in the map which facilitate movement. As the above figure shows, the central region through which most paths seem to pass is highlighted. The tops of the hills have almost no shortest paths passing through them."
   ]
  }
 ],
 "metadata": {
  "kernelspec": {
   "display_name": "Python 2",
   "language": "python",
   "name": "python2"
  },
  "language_info": {
   "codemirror_mode": {
    "name": "ipython",
    "version": 2
   },
   "file_extension": ".py",
   "mimetype": "text/x-python",
   "name": "python",
   "nbconvert_exporter": "python",
   "pygments_lexer": "ipython2",
   "version": "2.7.6"
  }
 },
 "nbformat": 4,
 "nbformat_minor": 0
}
