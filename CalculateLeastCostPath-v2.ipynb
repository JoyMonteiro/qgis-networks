{
 "cells": [
  {
   "cell_type": "markdown",
   "metadata": {},
   "source": [
    "## The routing code\n",
    "----"
   ]
  },
  {
   "cell_type": "code",
   "execution_count": 1,
   "metadata": {
    "collapsed": true
   },
   "outputs": [],
   "source": [
    "# %load transformsUtils.py\n",
    "import rasterio\n",
    "import numpy as np\n",
    "from affine import Affine\n",
    "\n",
    "def pixelToCoordFn(raster):\n",
    "    \"\"\" Converts from pixel indices to actual coordinates.\n",
    "    \n",
    "    :param raster: file for which the coordinates have to be calculated\n",
    "    :param x: x coordinate\n",
    "    :param y: y coordinate\n",
    "    :returns transFunc: function which does the transformation\n",
    "    \n",
    "    \"\"\"\n",
    "    \n",
    "    with rasterio.open(raster, 'r') as rasterFile:\n",
    "        T0 = rasterFile.affine\n",
    "        \n",
    "    #By default, transformation is for pixel edge. convert to centre\n",
    "    T1 = T0#*Affine.translation(0.5,0.5)\n",
    "    \n",
    "    transFunc = lambda (r, c): (c, r) * T1\n",
    "    \n",
    "    return transFunc\n",
    "            \n",
    "\n",
    "def coordToPixelFn(raster):\n",
    "    \"\"\" Converts from actual coordinates to pixel indices.\n",
    "    \n",
    "    :param raster: file for which the coordinates have to be calculated\n",
    "    :param x: x coordinate\n",
    "    :param y: y coordinate\n",
    "    :returns transFunc: function which does the transformation\n",
    "    \n",
    "    \"\"\"\n",
    "    \n",
    "    with rasterio.open(raster, 'r') as rasterFile:\n",
    "        T0 = rasterFile.affine\n",
    "        \n",
    "    a1 = 1./T0.a\n",
    "    b1 = T0.b\n",
    "    c1 = -T0.c/T0.a\n",
    "    \n",
    "    d1 = T0.d\n",
    "    e1 = 1/T0.e\n",
    "    f1 = -T0.f/T0.e\n",
    "    \n",
    "    #print T0.a, T0.b, T0.c, T0.d, T0.e, T0.f\n",
    "    T0 = Affine(a1,b1,c1,d1,e1,f1)\n",
    "    #print T0.a, T0.b, T0.c, T0.d, T0.e, T0.f\n",
    "    #print T0*(69.99958357546711, 20.000417005657994)\n",
    "    \n",
    "    #By default, transformation is for pixel edge. convert to centre\n",
    "    T1 = T0#*Affine.translation(0.5,0.5)    \n",
    "    \n",
    "    transFunc = lambda (r, c): tuple(np.array((r, c)*T1)[::-1])\n",
    "    \n",
    "    return transFunc    \n",
    "\n",
    "\n",
    "\n"
   ]
  },
  {
   "cell_type": "code",
   "execution_count": 2,
   "metadata": {
    "collapsed": true
   },
   "outputs": [],
   "source": [
    "from skimage.graph import MCP_Geometric\n",
    "\n",
    "class returnCost(object):\n",
    "    \"\"\"\n",
    "    Simple class to store the graph and its\n",
    "    cumulative cost\n",
    "    \"\"\"\n",
    "    def __init__(self, graph, cumulativeCost, name, px2Coord, coord2Px):\n",
    "        \n",
    "        self.graph = graph\n",
    "        self.cumCost = cumulativeCost\n",
    "        self.name = name\n",
    "        self.px2Coord = px2Coord\n",
    "        self.coord2Px = coord2Px\n",
    "        return self\n",
    "    \n",
    "    def returnRouteTo(destination):\n",
    "        \n",
    "        index = self.coord2Px(destination)\n",
    "        route = self.graph.traceback(index)\n",
    "        coords = [self.px2Coord(point) for point in route]\n",
    "        return (coords, self.cumCost[index])\n",
    "\n",
    "def createPathFrom(startPlaceName,costSurfaceFile,startCoord):\n",
    "    \"\"\"Create a least cost path from startCoord to stopCoord given a cost surface.\n",
    "    \n",
    "    :param costSurfaceFile: name of file containing costs\n",
    "    :param startCoord: (x,y) values in world coordinates to start from\n",
    "    :param startPlaceName: Name of the place we are starting from\n",
    "    \n",
    "    :returns: an object which gives the costs and route given an end point\n",
    "    \"\"\"\n",
    "\n",
    "    print 'reading data'\n",
    "    with rasterio.open(costSurfaceFile,'r') as costFile:\n",
    "        costSurfaceArray = costFile.read() \n",
    "        # creates array from cost surface raster\n",
    "    \n",
    "    #\n",
    "    px2Coord = pixelToCoordFn(costSurfaceFile)\n",
    "    coord2Px = coordToPixelFn(costSurfaceFile)     \n",
    "\n",
    "    # coordinates to array index\n",
    "    startIndices = coord2Px(startCoord)\n",
    "\n",
    "    print 'Starting from: ', startIndices\n",
    "    print 'Initialising'\n",
    "    # create path\n",
    "    graph = MCP_Geometric(costSurfaceArray, fully_connected=True)\n",
    "    print 'done creating graph, now calculating all routes'\n",
    "    cumCost, traceback = graph.find_costs([startIndices])\n",
    "    print done\n",
    "    \n",
    "    costObject = returnCost(graph, cumCost, startPlaceName, px2Coord, coord2Px)\n",
    "    \n",
    "    return costObject\n"
   ]
  },
  {
   "cell_type": "code",
   "execution_count": 3,
   "metadata": {
    "collapsed": true
   },
   "outputs": [],
   "source": [
    "# %load readWriteUtils.py\n",
    "import rasterio\n",
    "import fiona\n",
    "\n",
    "def readFeature(shapeFile, feature='Point'):\n",
    "    \"\"\"Read all the points and their properties from a vector shape file\n",
    "    \n",
    "    :param shapeFile: name of a file to read from\n",
    "    :param feature: either 'Point', 'Linestring' or 'Polygon' for now\n",
    "    :returns: a list of feature coordinates and their names\n",
    "    \n",
    "    \"\"\"\n",
    "    \n",
    "    with fiona.open(shapeFile) as shpFile:\n",
    "        allFeatures = list(shpFile)\n",
    "    \n",
    "    coordinates = []\n",
    "    names = []\n",
    "    \n",
    "    print 'Number of features: ', len(allFeatures)\n",
    "    for p in allFeatures:\n",
    "        if p['geometry']['type'] == feature:\n",
    "            \n",
    "            if feature is 'Polygon':\n",
    "                coords = p['geometry']['coordinates'][0]\n",
    "                if len(coords) == 3:\n",
    "                    # We want only the first two coordinates\n",
    "                    coords = coords[0:-1]\n",
    "                coordinates.append(coords)\n",
    "            elif feature is 'MultiPolygon':\n",
    "                coords = p['geometry']['coordinates'][0][0]\n",
    "                if len(coords) == 3:\n",
    "                    # We want only the first two coordinates\n",
    "                    coords = coords[0:-1]                \n",
    "                coordinates.append(coords)\n",
    "            else:\n",
    "                coords = p['geometry']['coordinates']\n",
    "                if len(coords) == 3:\n",
    "                    # We want only the first two coordinates\n",
    "                    coords = coords[0:-1]                \n",
    "                coordinates.append(coords)\n",
    "            \n",
    "            if 'Name' in p['properties'].keys(): \n",
    "                names.append(p['properties']['Name'])\n",
    "    \n",
    "    return dict(zip(names, coordinates))\n",
    "    \n",
    "\n",
    "def writeRasterFile(outputArray, outputFilename, refRaster):\n",
    "    \n",
    "    with rasterio.open(refRaster) as src:\n",
    "        kwargs = src.meta\n",
    "        \n",
    "    with rasterio.open(outputFilename, 'w', **kwargs) as dst:\n",
    "        dst.write_band(1, outputArray.astype(kwargs['dtype']))\n",
    "\n",
    "\n",
    "\n"
   ]
  },
  {
   "cell_type": "code",
   "execution_count": 4,
   "metadata": {
    "collapsed": false
   },
   "outputs": [
    {
     "name": "stdout",
     "output_type": "stream",
     "text": [
      "Number of features:  28\n",
      "Number of features:  58\n"
     ]
    }
   ],
   "source": [
    "coastpoints = readFeature('../Shapefiles/CoromandelCoastPlaces.shp')\n",
    "deccanpoints = readFeature('../Shapefiles/InteriorPlaces.shp')"
   ]
  },
  {
   "cell_type": "code",
   "execution_count": 5,
   "metadata": {
    "collapsed": false
   },
   "outputs": [
    {
     "data": {
      "text/plain": [
       "{u'Adam': (79.44988317286726, 20.99930153541378),\n",
       " u'Adilabad': (78.52950372547053, 19.66824489882036),\n",
       " u'Alluru': (80.44099004685778, 16.76914862020891),\n",
       " u'Amaravathi': (80.35748150779486, 16.57265804076962),\n",
       " u'Aurangabad': (75.34127720572363, 19.86848230793264),\n",
       " u'Badvel': (79.05858948334388, 14.72978737897093),\n",
       " u'Belgaum': (74.49954574080886, 15.84901894017051),\n",
       " u'Bellary': (76.92117873163025, 15.13823924528715),\n",
       " u'Bidar': (77.519216811633, 17.91842182127456),\n",
       " u'Bijapur': (75.7093407630056, 16.82743100851483),\n",
       " u'Bodhan': (77.90009660906304, 18.66974366553383),\n",
       " u'Chandrapur': (79.29934030661626, 19.9474431901183),\n",
       " u'Daulatabad': (75.21303051920609, 19.94264550944658),\n",
       " u'Gajulabanda': (79.44493733632086, 17.44215256110829),\n",
       " u'Garikapadu': (79.7007591234751, 16.33464846208296),\n",
       " u'Goli': (79.5434675017246, 16.59450020186393),\n",
       " u'Gulbarga': (76.83396651534765, 17.32551520806241),\n",
       " u'Guntakal': (77.37276063520018, 15.16365983163976),\n",
       " u'Guntupalli': (81.13092964834577, 17.01980841825057),\n",
       " u'Hanamkonda': (79.55700126542254, 18.00451828047292),\n",
       " u'Hinganghat': (78.84351576485443, 20.54616862239718),\n",
       " u'Hubli-Dharwad': (75.08483583551289, 15.36121334290463),\n",
       " u'Hyderabad': (78.48684875152986, 17.38030290599092),\n",
       " u'Jaggayyapeta': (80.09765382462204, 16.89172811164058),\n",
       " u'Jangaon': (79.17975332696246, 17.71930952888685),\n",
       " u'Jeypore': (82.57296241810019, 18.86498408451859),\n",
       " u'Kadiri': (78.16024257463974, 14.11123859788977),\n",
       " u'Karad': (74.20027654621495, 17.27562920444157),\n",
       " u'Karimnagar': (79.12776108314662, 18.43201177520683),\n",
       " u'Koilkuntla': (78.31660254474086, 15.23213338730874),\n",
       " u'Kolhapur': (74.24471429038874, 16.69068836133482),\n",
       " u'Kondapur': (78.70924827361775, 18.5078100896339),\n",
       " u'Koraput': (82.70984909855451, 18.80514157617955),\n",
       " u'Korukonda': (81.83168629707318, 17.17148761059733),\n",
       " u'Mancherial': (79.46376933502866, 18.8673716603848),\n",
       " u'Nagarjunakonda': (79.24199678951538, 16.52183413460003),\n",
       " u'Nagpur': (79.08789817754764, 21.14436177623766),\n",
       " u'Nalgonda': (79.26249043624492, 17.05606774654516),\n",
       " u'Nanded': (77.29983754081528, 19.14899325321492),\n",
       " u'Nandori': (78.97262228635823, 20.51549885475078),\n",
       " u'Nandyal': (78.47532948984444, 15.46354714616056),\n",
       " u'Nashik': (73.78958686068472, 19.99540231835371),\n",
       " u'Nellakondapalli': (80.06844451703626, 17.11177535790434),\n",
       " u'Nizamabad': (78.0929612153006, 18.6674997429364),\n",
       " u'Paithan/Pratisthana': (75.37984949409807, 19.47967189425886),\n",
       " u'Parbhani': (76.77932842138735, 19.26734494918001),\n",
       " u'Pauni': (79.63662767566476, 20.79293732145555),\n",
       " u'Pedamadduru': (80.39783444460723, 16.53820612323536),\n",
       " u'Phanigiri': (79.47240516099104, 17.42685330178541),\n",
       " u'Pulivendula': (78.2263479018568, 14.42097483173875),\n",
       " u'Pune': (73.85642271698597, 18.51794103099387),\n",
       " u'Raichur': (77.360229, 16.256867),\n",
       " u'Raipur': (81.62096789818713, 21.21497295599469),\n",
       " u'Sambalpur': (83.96255252011352, 21.43249096082672),\n",
       " u'Satara': (74.00081569295679, 17.6905105618208),\n",
       " u'Tadipatri': (77.99042277711548, 14.90442253101064),\n",
       " u'Vinukonda': (79.74046144589191, 16.04918314969372),\n",
       " u'Yerrampalem': (81.87762278372801, 17.22616295399498)}"
      ]
     },
     "execution_count": 5,
     "metadata": {},
     "output_type": "execute_result"
    }
   ],
   "source": [
    "deccanpoints"
   ]
  },
  {
   "cell_type": "code",
   "execution_count": 6,
   "metadata": {
    "collapsed": false
   },
   "outputs": [
    {
     "data": {
      "text/plain": [
       "{u'Anakapalle': (83.00875379544561, 17.68576243311793),\n",
       " u'Arugolanu': (80.95597753800922, 16.5624674260166),\n",
       " u'Bhattiprolu': (80.77990331869378, 16.09976381993026),\n",
       " u'Buddhani': (80.55216526074642, 15.9471966617142),\n",
       " u'Chinnaganjam': (80.23677804109577, 15.69547066681743),\n",
       " u'Dharapalem': (82.930650153634, 17.5360386476163),\n",
       " u'Ganjam': (85.05139343552105, 19.38692022064951),\n",
       " u'Ghantasala/Kantakasaila': (80.94419671522414, 16.16882457923828),\n",
       " u'Gudivada': (80.98916947371474, 16.42483255880556),\n",
       " u'Guntur': (80.43636906697354, 16.3047782626829),\n",
       " u'Kanuparthi': (80.21399871732065, 15.58640997565835),\n",
       " u'Kodavali': (82.2752559344329, 17.22965596702113),\n",
       " u'Koduru': (81.0339529191514, 16.0083183783955),\n",
       " u'Korukonda': (81.83168629707318, 17.17148761059733),\n",
       " u'Machilipatnam': (81.12942577890752, 16.16784580293908),\n",
       " u'Nellore': (79.98633385330119, 14.44214673434968),\n",
       " u'Pedavegi': (81.10654445718636, 16.81006050148935),\n",
       " u'Peddaganjam': (80.22737229545297, 15.64196473414722),\n",
       " u'Pithapuram': (82.2529052307822, 17.11207269213028),\n",
       " u'Ramateertham': (83.48542029622485, 18.17601006760968),\n",
       " u'Ramatirtham': (80.14070000135608, 14.64445603145569),\n",
       " u'Salihundam': (84.04993714992355, 18.33315124578951),\n",
       " u'Sankaram': (83.02134742034013, 17.68568964751766),\n",
       " u'Srikakulam': (83.89642756047344, 18.29596163470776),\n",
       " u'Srikalahasti': (79.69986833292941, 13.75969203264884),\n",
       " u'Uppugunduru': (80.21710145938552, 15.63952786244812),\n",
       " u'Vijayaderpuram (Vijayawada)': (80.64722940849252, 16.50547588848681),\n",
       " u'Yerrampalem': (81.87762278372801, 17.22616295399498)}"
      ]
     },
     "execution_count": 6,
     "metadata": {},
     "output_type": "execute_result"
    }
   ],
   "source": [
    "coastpoints"
   ]
  },
  {
   "cell_type": "markdown",
   "metadata": {},
   "source": [
    "##Actual Routing steps follow..."
   ]
  },
  {
   "cell_type": "code",
   "execution_count": 7,
   "metadata": {
    "collapsed": true
   },
   "outputs": [],
   "source": [
    "startPoint = coastpoints['Bhattiprolu']\n",
    "#endPoint = deccanpoints['Nizamabad']\n",
    "costFile = '../Shapefiles/CompleteCost.tif'"
   ]
  },
  {
   "cell_type": "code",
   "execution_count": null,
   "metadata": {
    "collapsed": false
   },
   "outputs": [],
   "source": [
    "with rasterio.open(costFile) as src:\n",
    "    costArray = src.read(1)\n",
    "    \n",
    "graph = MCP_Geometric(costArray, fully_connected=True)"
   ]
  },
  {
   "cell_type": "code",
   "execution_count": null,
   "metadata": {
    "collapsed": true
   },
   "outputs": [],
   "source": []
  }
 ],
 "metadata": {
  "kernelspec": {
   "display_name": "Python 2",
   "language": "python",
   "name": "python2"
  },
  "language_info": {
   "codemirror_mode": {
    "name": "ipython",
    "version": 2
   },
   "file_extension": ".py",
   "mimetype": "text/x-python",
   "name": "python",
   "nbconvert_exporter": "python",
   "pygments_lexer": "ipython2",
   "version": "2.7.6"
  }
 },
 "nbformat": 4,
 "nbformat_minor": 0
}
