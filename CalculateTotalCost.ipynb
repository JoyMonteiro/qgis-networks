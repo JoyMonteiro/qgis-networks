{
 "cells": [
  {
   "cell_type": "code",
   "execution_count": 1,
   "metadata": {
    "collapsed": false
   },
   "outputs": [],
   "source": [
    "# %load transformsUtils.py\n",
    "import rasterio\n",
    "import numpy as np\n",
    "from affine import Affine\n",
    "\n",
    "def pixelToCoordFn(raster):\n",
    "    \"\"\" Converts from pixel indices to actual coordinates.\n",
    "    \n",
    "    :param raster: file for which the coordinates have to be calculated\n",
    "    :param x: x coordinate\n",
    "    :param y: y coordinate\n",
    "    :returns transFunc: function which does the transformation\n",
    "    \n",
    "    \"\"\"\n",
    "    \n",
    "    with rasterio.open(raster, 'r') as rasterFile:\n",
    "        T0 = rasterFile.affine\n",
    "        \n",
    "    #By default, transformation is for pixel edge. convert to centre\n",
    "    T1 = T0#*Affine.translation(0.5,0.5)\n",
    "    \n",
    "    transFunc = lambda (r, c): (c, r) * T1\n",
    "    \n",
    "    return transFunc\n",
    "            \n",
    "\n",
    "def coordToPixelFn(raster):\n",
    "    \"\"\" Converts from actual coordinates to pixel indices.\n",
    "    \n",
    "    :param raster: file for which the coordinates have to be calculated\n",
    "    :param x: x coordinate\n",
    "    :param y: y coordinate\n",
    "    :returns transFunc: function which does the transformation\n",
    "    \n",
    "    \"\"\"\n",
    "    \n",
    "    with rasterio.open(raster, 'r') as rasterFile:\n",
    "        T0 = rasterFile.affine\n",
    "        \n",
    "    a1 = 1./T0.a\n",
    "    b1 = T0.b\n",
    "    c1 = -T0.c/T0.a\n",
    "    \n",
    "    d1 = T0.d\n",
    "    e1 = 1/T0.e\n",
    "    f1 = -T0.f/T0.e\n",
    "    \n",
    "    #print T0.a, T0.b, T0.c, T0.d, T0.e, T0.f\n",
    "    T0 = Affine(a1,b1,c1,d1,e1,f1)\n",
    "    #print T0.a, T0.b, T0.c, T0.d, T0.e, T0.f\n",
    "    #print T0*(69.99958357546711, 20.000417005657994)\n",
    "    \n",
    "    #By default, transformation is for pixel edge. convert to centre\n",
    "    T1 = T0#*Affine.translation(0.5,0.5)    \n",
    "    \n",
    "    transFunc = lambda (r, c): tuple(np.array((r, c)*T1)[::-1])\n",
    "    \n",
    "    return transFunc    \n",
    "\n",
    "\n",
    "\n"
   ]
  },
  {
   "cell_type": "markdown",
   "metadata": {},
   "source": [
    "Verify that fwd and inverse are actually correct"
   ]
  },
  {
   "cell_type": "code",
   "execution_count": 2,
   "metadata": {
    "collapsed": false
   },
   "outputs": [
    {
     "data": {
      "text/plain": [
       "(72.0, 81.0)"
      ]
     },
     "execution_count": 2,
     "metadata": {},
     "output_type": "execute_result"
    }
   ],
   "source": [
    "costFile = '../Shapefiles/TotalAreaSlopeCost.tif'\n",
    "totalCostFile = '../Shapefiles/CompleteCost.tif'\n",
    "\n",
    "px2Coord = pixelToCoordFn(costFile)\n",
    "coord2Px = coordToPixelFn(costFile)\n",
    "\n",
    "coord2Px(px2Coord((1001,1011)))\n",
    "px2Coord(coord2Px((72,81)))"
   ]
  },
  {
   "cell_type": "markdown",
   "metadata": {},
   "source": [
    "We read different kinds of geometry from a shapefile"
   ]
  },
  {
   "cell_type": "code",
   "execution_count": 3,
   "metadata": {
    "collapsed": true
   },
   "outputs": [],
   "source": [
    "# %load readWriteUtils.py\n",
    "import rasterio\n",
    "import fiona\n",
    "\n",
    "def readFeature(shapeFile, feature='Point'):\n",
    "    \"\"\"Read all the points and their properties from a vector shape file\n",
    "    \n",
    "    :param shapeFile: name of a file to read from\n",
    "    :param feature: either 'Point', 'Linestring' or 'Polygon' for now\n",
    "    :returns: a list of feature coordinates and their names\n",
    "    \n",
    "    \"\"\"\n",
    "    \n",
    "    with fiona.open(shapeFile) as shpFile:\n",
    "        allFeatures = list(shpFile)\n",
    "    \n",
    "    coordinates = []\n",
    "    names = []\n",
    "    \n",
    "    print 'Number of features: ', len(allFeatures)\n",
    "    for p in allFeatures:\n",
    "        if p['geometry']['type'] == feature:\n",
    "            \n",
    "            if feature is 'Polygon':\n",
    "                coords = p['geometry']['coordinates'][0]\n",
    "                coordinates.append(coords)\n",
    "            elif feature is 'MultiPolygon':\n",
    "                coords = p['geometry']['coordinates'][0][0]\n",
    "                print coords\n",
    "                coordinates.append(coords)\n",
    "            \n",
    "            if 'Name' in p['properties'].keys(): \n",
    "                names.append(p['properties']['Name'])\n",
    "    \n",
    "    return names, coordinates\n",
    "    \n",
    "\n",
    "def writeRasterFile(outputArray, outputFilename, refRaster):\n",
    "    \n",
    "    with rasterio.open(refRaster) as src:\n",
    "        kwargs = src.meta\n",
    "        \n",
    "    with rasterio.open(outputFilename, 'w', **kwargs) as dst:\n",
    "        dst.write_band(1, outputArray.astype(kwargs['dtype']))\n",
    "\n",
    "\n",
    "\n"
   ]
  },
  {
   "cell_type": "code",
   "execution_count": 4,
   "metadata": {
    "collapsed": false
   },
   "outputs": [
    {
     "name": "stdout",
     "output_type": "stream",
     "text": [
      "Number of features:  28\n",
      "Number of features:  35\n",
      "Number of features:  52\n"
     ]
    }
   ],
   "source": [
    "names, coords = readFeature('../Shapefiles/SahyadriPasses.shp')\n",
    "polyNames, polyCoords = readFeature('../Shapefiles/WaterBodies.shp', feature='Polygon')\n",
    "riverNames, riverCoords = readFeature('../Shapefiles/DeccanRiverBuffer.shp', feature='Polygon')"
   ]
  },
  {
   "cell_type": "code",
   "execution_count": 5,
   "metadata": {
    "collapsed": false
   },
   "outputs": [],
   "source": [
    "from PIL import Image, ImageDraw\n",
    "import numpy as np\n",
    "import scipy as sp\n",
    "\n",
    "def drawPolygons(polyList, rasterFile, fillValue=4, fillType='uniform'):\n",
    "    \"\"\" Draw water bodies (or any other polygon on an image)\n",
    "    \n",
    "    :param polyList: list of polygons to draw\n",
    "    :param fillValue: The value to use at the filled locations\n",
    "    :param rasterFile: Raster from which dimensions are extracted\n",
    "    :param fillType: either 'uniform' or 'random'\n",
    "    \n",
    "    \"\"\"\n",
    "    \n",
    "    with rasterio.open(rasterFile) as raster:\n",
    "        width = raster.width\n",
    "        height = raster.height\n",
    "        \n",
    "    img = Image.new('L',(height, width), 0)\n",
    "    \n",
    "    coord2px = coordToPixelFn(rasterFile)\n",
    "    \n",
    "    for poly in polyList:\n",
    "        \n",
    "        polyInCoords = poly\n",
    "        polyInPixels = map(coord2Px, polyInCoords)\n",
    "        \n",
    "        ImageDraw.Draw(img).polygon(polyInPixels, outline=True, fill=True)\n",
    "    \n",
    "    img = np.array(img,dtype=float).transpose()\n",
    "\n",
    "    if fillType == 'uniform':\n",
    "        return fillValue*img\n",
    "    elif fillType == 'random':\n",
    "        print 'Filling Random values.'\n",
    "        indices = np.nonzero(img)\n",
    "        numVals = len(indices[0])\n",
    "        print 'in',numVals,'locations'\n",
    "        img[indices] = sp.random.exponential(scale=2,size=numVals)\n",
    "        print np.mean(img[indices])\n",
    "        return img\n",
    "    else:\n",
    "        print 'Fill Type not recognised'\n",
    "        return\n",
    "    "
   ]
  },
  {
   "cell_type": "code",
   "execution_count": 6,
   "metadata": {
    "collapsed": false
   },
   "outputs": [
    {
     "name": "stdout",
     "output_type": "stream",
     "text": [
      "Filling Random values.\n",
      "in 451229 locations\n",
      "2.00619484276\n"
     ]
    }
   ],
   "source": [
    "output = drawPolygons(polyCoords, costFile, fillType='random')\n",
    "outputRivers = drawPolygons(riverCoords, costFile)"
   ]
  },
  {
   "cell_type": "code",
   "execution_count": 7,
   "metadata": {
    "collapsed": false
   },
   "outputs": [
    {
     "name": "stdout",
     "output_type": "stream",
     "text": [
      "finished one\n",
      "finished reading  (12001, 18001)\n"
     ]
    }
   ],
   "source": [
    "import matplotlib.pyplot as plt\n",
    "\n",
    "plt.imshow(output)\n",
    "\n",
    "print 'finished one'\n",
    "with rasterio.open(costFile) as src:\n",
    "    arr = src.read(1)\n",
    "    \n",
    "print 'finished reading ', arr.shape\n",
    "#plt.figure()\n",
    "#plt.imshow(arr)\n",
    "#plt.figure()\n",
    "#plt.imshow(outputRivers)\n",
    "#print 'all done!'\n",
    "#plt.show()"
   ]
  },
  {
   "cell_type": "code",
   "execution_count": 8,
   "metadata": {
    "collapsed": false
   },
   "outputs": [
    {
     "name": "stderr",
     "output_type": "stream",
     "text": [
      "/usr/local/lib/python2.7/dist-packages/rasterio/__init__.py:91: FutureWarning: GDAL-style transforms are deprecated and will not be supported in Rasterio 1.0.\n",
      "  transform = guard_transform(transform)\n"
     ]
    }
   ],
   "source": [
    "writeRasterFile(arr+outputRivers+output, totalCostFile, costFile)"
   ]
  },
  {
   "cell_type": "code",
   "execution_count": 9,
   "metadata": {
    "collapsed": false
   },
   "outputs": [
    {
     "data": {
      "text/plain": [
       "(array([ 573, 1180, 1213, 1293, 1322, 2747, 4034, 4278, 4291, 4400, 4486,\n",
       "        4592, 4763, 4881, 4916, 5102, 6665]),\n",
       " array([ 6336,  9871,  9864,  9710,  4207,  4431, 11122, 11060,  6736,\n",
       "         7019, 11072,  7385,  9947, 10044, 10134, 10372, 11123]))"
      ]
     },
     "execution_count": 9,
     "metadata": {},
     "output_type": "execute_result"
    }
   ],
   "source": [
    "np.nonzero(output)"
   ]
  },
  {
   "cell_type": "code",
   "execution_count": null,
   "metadata": {
    "collapsed": true
   },
   "outputs": [],
   "source": []
  }
 ],
 "metadata": {
  "kernelspec": {
   "display_name": "Python 2",
   "language": "python",
   "name": "python2"
  },
  "language_info": {
   "codemirror_mode": {
    "name": "ipython",
    "version": 2
   },
   "file_extension": ".py",
   "mimetype": "text/x-python",
   "name": "python",
   "nbconvert_exporter": "python",
   "pygments_lexer": "ipython2",
   "version": "2.7.6"
  }
 },
 "nbformat": 4,
 "nbformat_minor": 0
}
